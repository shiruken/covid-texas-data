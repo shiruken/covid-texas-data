{
 "cells": [
  {
   "cell_type": "markdown",
   "metadata": {},
   "source": [
    "# Date of Death Calculator for Newly Reported Fatalities\n",
    "Compares differences between `FatalitiesOverTimeByCounty` data files to determine the actual dates of death for newly reported fatalities (**not the date the death was reported**). This analysis is only possible with access to the daily versions of these files because changes are not recorded otherwise."
   ]
  },
  {
   "cell_type": "code",
   "execution_count": 1,
   "metadata": {},
   "outputs": [],
   "source": [
    "import pandas as pd\n",
    "import matplotlib.pyplot as plt\n",
    "from pylab import MaxNLocator"
   ]
  },
  {
   "cell_type": "markdown",
   "metadata": {},
   "source": [
    "### Load fatality data from two consecutive days"
   ]
  },
  {
   "cell_type": "code",
   "execution_count": 2,
   "metadata": {},
   "outputs": [],
   "source": [
    "f1 = 'FatalitiesOverTimeByCounty/2021-03-18.xlsx'\n",
    "f2 = 'FatalitiesOverTimeByCounty/2021-03-19.xlsx'"
   ]
  },
  {
   "cell_type": "code",
   "execution_count": 3,
   "metadata": {},
   "outputs": [],
   "source": [
    "df1 = pd.read_excel(f1, sheet_name='Fatalities by County', index_col=[0], header=2, nrows=256)\n",
    "df1.dropna(axis=1, how='all', inplace=True)\n",
    "df2 = pd.read_excel(f2, sheet_name='Fatalities by County', index_col=[0], header=2, nrows=256)\n",
    "df2.dropna(axis=1, how='all', inplace=True)"
   ]
  },
  {
   "cell_type": "code",
   "execution_count": 4,
   "metadata": {},
   "outputs": [],
   "source": [
    "# Parse column text as dates\n",
    "df1.columns = df1.columns.map(lambda x: pd.to_datetime(x.split(\" \")[-1]))\n",
    "df2.columns = df2.columns.map(lambda x: pd.to_datetime(x.split(\" \")[-1]))"
   ]
  },
  {
   "cell_type": "markdown",
   "metadata": {},
   "source": [
    "## Select a specific county (or statewide) to plot\n",
    "`county` should match the formatting of the 'County Name' column in the Excel files"
   ]
  },
  {
   "cell_type": "code",
   "execution_count": 5,
   "metadata": {},
   "outputs": [],
   "source": [
    "county = \"Total\""
   ]
  },
  {
   "cell_type": "markdown",
   "metadata": {},
   "source": [
    "Calculate daily changes in cumulative fatalities and find difference to determine when the newly reported fatalities were added"
   ]
  },
  {
   "cell_type": "code",
   "execution_count": 6,
   "metadata": {},
   "outputs": [],
   "source": [
    "df1_diff = df1.loc[county].diff()\n",
    "df2_diff = df2.loc[county].diff()\n",
    "new_fatalities = df2_diff - df1_diff"
   ]
  },
  {
   "cell_type": "markdown",
   "metadata": {},
   "source": [
    "Plot"
   ]
  },
  {
   "cell_type": "code",
   "execution_count": 7,
   "metadata": {},
   "outputs": [
    {
     "data": {
      "image/png": "[encoded data removed]",
      "text/plain": [
       "<Figure size 720x432 with 1 Axes>"
      ]
     },
     "metadata": {
      "needs_background": "light"
     },
     "output_type": "display_data"
    }
   ],
   "source": [
    "fig, ax = plt.subplots(figsize=(10, 6))\n",
    "plt.bar(new_fatalities.index[-90:], new_fatalities[-90:]) # Plot over last 90 days\n",
    "fig.autofmt_xdate()\n",
    "ax.get_yaxis().set_major_locator(MaxNLocator(integer=True))\n",
    "plt.ylabel(\"Newly Reported Fatalities\")\n",
    "if county == \"Total\":\n",
    "    loc = \"Texas\"\n",
    "else:\n",
    "    loc = f\"{county.title()} County\"\n",
    "plt.title(f\"Newly Reported Fatalities (+{new_fatalities.sum():0.0f}) on {new_fatalities.index[-1].date()} in {loc} by Date of Death\")\n",
    "plt.tight_layout()\n",
    "# plt.savefig(f\"NewFatalities_{county}.png\", dpi=300, facecolor=\"w\", transparent=False)"
   ]
  },
  {
   "cell_type": "code",
   "execution_count": null,
   "metadata": {},
   "outputs": [],
   "source": []
  }
 ],
 "metadata": {
  "kernelspec": {
   "display_name": "covid-texas",
   "language": "python",
   "name": "covid-texas"
  },
  "language_info": {
   "codemirror_mode": {
    "name": "ipython",
    "version": 3
   },
   "file_extension": ".py",
   "mimetype": "text/x-python",
   "name": "python",
   "nbconvert_exporter": "python",
   "pygments_lexer": "ipython3",
   "version": "3.9.2"
  }
 },
 "nbformat": 4,
 "nbformat_minor": 4
}
